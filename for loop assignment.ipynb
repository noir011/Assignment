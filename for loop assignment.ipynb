{
 "cells": [
  {
   "cell_type": "markdown",
   "id": "d2b283ab-1a30-4d15-bcd1-23a20933f9bd",
   "metadata": {},
   "source": [
    "# write a program to sum and product of first 10 natural number using for and while loop"
   ]
  },
  {
   "cell_type": "code",
   "execution_count": 3,
   "id": "fd02f3c0-00e3-4e8a-bef0-c3376b13b35a",
   "metadata": {},
   "outputs": [
    {
     "name": "stdout",
     "output_type": "stream",
     "text": [
      " the sum of first 10 natural number using for loop is 55\n"
     ]
    }
   ],
   "source": [
    "\n",
    "addition=0\n",
    "\n",
    "for i in range(1,11):\n",
    "    addition=addition+i\n",
    "print(\" the sum of first 10 natural number using for loop is\", addition)\n",
    "\n",
    "\n"
   ]
  },
  {
   "cell_type": "code",
   "execution_count": 4,
   "id": "6fa6fbb5-a04c-482b-b0c0-99d435ca5087",
   "metadata": {},
   "outputs": [
    {
     "name": "stdout",
     "output_type": "stream",
     "text": [
      "The sum of first 10 natural number using while loop is 55\n"
     ]
    }
   ],
   "source": [
    "n=10\n",
    "add1=0\n",
    "counter=1\n",
    "\n",
    "while counter<=10:\n",
    "    add1=add1+counter\n",
    "    counter=counter+1\n",
    "print(\"The sum of first 10 natural number using while loop is\", add1)"
   ]
  },
  {
   "cell_type": "code",
   "execution_count": 7,
   "id": "9e4d491d-1f36-49e2-9971-fd9cd9ec7d24",
   "metadata": {},
   "outputs": [
    {
     "name": "stdout",
     "output_type": "stream",
     "text": [
      " The product of first 10 natural number using for loop is 3628800\n"
     ]
    }
   ],
   "source": [
    "product=1\n",
    "\n",
    "for i in range(1,11):\n",
    "    product=product*i\n",
    "print(\" The product of first 10 natural number using for loop is\" , product)"
   ]
  },
  {
   "cell_type": "code",
   "execution_count": 8,
   "id": "40ab2912-9688-46b0-90f4-5e59e18c8db8",
   "metadata": {},
   "outputs": [
    {
     "name": "stdout",
     "output_type": "stream",
     "text": [
      " The product of first 10 natural number using while loop is 3628800\n"
     ]
    }
   ],
   "source": [
    "n1=10\n",
    "pro=1\n",
    "counter=1\n",
    "\n",
    "while counter<=n:\n",
    "    pro=pro*counter\n",
    "    counter=counter+1\n",
    "print(\" The product of first 10 natural number using while loop is\" , pro)"
   ]
  },
  {
   "cell_type": "markdown",
   "id": "165a9297-6ecd-4a42-936c-0b90ddd69b2c",
   "metadata": {},
   "source": [
    "## Q3. Create a python program to compute the electricity bill for a household.\n",
    "The per-unit charges in rupees are as follows: For the first 100 units, the user will be charged Rs. 4.5 per\n",
    "unit, for the next 100 units, the user will be charged Rs. 6 per unit, and for the next 100 units, the user will\n",
    "be charged Rs. 10 per unit, After 300 units and above the user will be charged Rs. 20 per unit.\n",
    "You are required to take the units of electricity consumed in a month from the user as input.\n",
    "Your program must pass this test case: when the unit of electricity consumed by the user in a month is\n",
    "310, the total electricity bill should be 2250."
   ]
  },
  {
   "cell_type": "code",
   "execution_count": 46,
   "id": "34aab462-b67c-4527-974e-ce257002b328",
   "metadata": {},
   "outputs": [
    {
     "name": "stdin",
     "output_type": "stream",
     "text": [
      "Enter you no. of units comsumed for the month 310\n"
     ]
    },
    {
     "name": "stdout",
     "output_type": "stream",
     "text": [
      "The total electricity bill for 310 units is Rs. 2250\n"
     ]
    }
   ],
   "source": [
    "unit=int(input(\"Enter you no. of units comsumed for the month\"))\n",
    "\n",
    "if unit <=100:\n",
    "    bill=unit*4.5\n",
    "    print(\" The total electricity bill for\", unit,\"units is Rs.\",bill)\n",
    "elif unit>100 and unit<=200:\n",
    "    bill=450+(unit-100)*6\n",
    "    print(\"The total electricity bill for\",unit,\"units is Rs.\",bill)\n",
    "elif unit > 200 and unit <=300:\n",
    "    bill=450+600+(unit-200)*10\n",
    "    print(\"The total electricity bill for\",unit,\"units is Rs.\",bill)\n",
    "elif unit > 300:\n",
    "    bill=450+600+1000+(unit-300)*20\n",
    "    print(\"The total electricity bill for\",unit,\"units is Rs.\",bill)"
   ]
  },
  {
   "cell_type": "markdown",
   "id": "0eb0cca2-ff0f-4a50-ac7e-b778ba71aa7b",
   "metadata": {},
   "source": [
    "## Create a list of numbers from 1 to 100. Use for loop and while loop to calculate the cube of each number and if the cube of that number is divisible by 4 or 5 then append that number in a list and print that list."
   ]
  },
  {
   "cell_type": "code",
   "execution_count": 21,
   "id": "60c1eb46-d1ce-4a83-813a-5dfe86e6d557",
   "metadata": {},
   "outputs": [
    {
     "name": "stdout",
     "output_type": "stream",
     "text": [
      "[2, 4, 5, 6, 8, 10, 12, 14, 15, 16, 18, 20, 22, 24, 25, 26, 28, 30, 32, 34, 35, 36, 38, 40, 42, 44, 45, 46, 48, 50, 52, 54, 55, 56, 58, 60, 62, 64, 65, 66, 68, 70, 72, 74, 75, 76, 78, 80, 82, 84, 85, 86, 88, 90, 92, 94, 95, 96, 98, 100]\n"
     ]
    }
   ],
   "source": [
    "l=[]\n",
    "cube=[]\n",
    "for i in range(1,101):\n",
    "    l.append(i)\n",
    "for i in l:\n",
    "    if (i**3)%4==0 or (i**3)%5==0:\n",
    "        cube.append(i)\n",
    "print(cube)"
   ]
  },
  {
   "cell_type": "code",
   "execution_count": 29,
   "id": "ba386354-9ae5-4289-90f1-45ebb4864a62",
   "metadata": {},
   "outputs": [
    {
     "name": "stdout",
     "output_type": "stream",
     "text": [
      "[2, 4, 5, 6, 8, 10, 12, 14, 15, 16, 18, 20, 22, 24, 25, 26, 28, 30, 32, 34, 35, 36, 38, 40, 42, 44, 45, 46, 48, 50, 52, 54, 55, 56, 58, 60, 62, 64, 65, 66, 68, 70, 72, 74, 75, 76, 78, 80, 82, 84, 85, 86, 88, 90, 92, 94, 95, 96, 98, 100]\n"
     ]
    }
   ],
   "source": [
    "\n",
    "wcube=[]\n",
    "counter=1\n",
    "\n",
    "while counter<=100:\n",
    "    if (counter**3)%4==0 or (counter**3)%5==0:\n",
    "        wcube.append(counter)\n",
    "    counter=counter+1\n",
    "print(wcube)"
   ]
  },
  {
   "cell_type": "markdown",
   "id": "29a2a780-26a2-4a8f-8e72-ba0cad19041a",
   "metadata": {},
   "source": [
    "## Write a program to filter count vowels in the below-given string. string = \"I want to become a data scientist\""
   ]
  },
  {
   "cell_type": "code",
   "execution_count": 50,
   "id": "8ea26c66-99a8-431b-99fb-e45c8aeb349b",
   "metadata": {},
   "outputs": [
    {
     "name": "stdin",
     "output_type": "stream",
     "text": [
      "enter the string I want to become a data scientist\n"
     ]
    },
    {
     "name": "stdout",
     "output_type": "stream",
     "text": [
      "the count of vowels presents in the given string is 12 and the list of vowels present in the given string is ['i', 'a', 'o', 'e', 'o', 'e', 'a', 'a', 'a', 'i', 'e', 'i']\n"
     ]
    }
   ],
   "source": [
    "string=input(\"enter the string\")\n",
    "s1=list(string.lower())\n",
    "f=[]\n",
    "vovel=[\"a\",\"e\",\"i\",\"o\",\"u\"]\n",
    "\n",
    "for i in s1:\n",
    "    for j in vovel:\n",
    "        if i==j:\n",
    "            f.append(i)\n",
    "print(\"the count of vowels presents in the given string is\",len(f),\"and the list of vowels present in the given string is\",f)\n"
   ]
  },
  {
   "cell_type": "code",
   "execution_count": 54,
   "id": "37a0b491-8bf9-49f1-a165-9834028d413c",
   "metadata": {},
   "outputs": [
    {
     "name": "stdin",
     "output_type": "stream",
     "text": [
      "enter the string welcome to jungle\n"
     ]
    },
    {
     "data": {
      "text/plain": [
       "['welcome', 'to', 'jungle']"
      ]
     },
     "execution_count": 54,
     "metadata": {},
     "output_type": "execute_result"
    }
   ],
   "source": [
    "s2=input(\"enter the string\")\n",
    "name=s2.split()\n",
    "name"
   ]
  },
  {
   "cell_type": "code",
   "execution_count": 20,
   "id": "33bf7ce6-eedc-4157-862b-4fe1e4a8b585",
   "metadata": {},
   "outputs": [
    {
     "name": "stdin",
     "output_type": "stream",
     "text": [
      "enter 3\n",
      "enter the ele 2\n",
      "enter the ele 3\n",
      "enter the ele 4\n"
     ]
    },
    {
     "name": "stdout",
     "output_type": "stream",
     "text": [
      "[2, 3, 4]\n",
      "[4, 9, 16]\n"
     ]
    }
   ],
   "source": [
    "l=[]\n",
    "p=[]\n",
    "n2=int(input(\"enter\"))\n",
    "\n",
    "for i in range(n2):\n",
    "    ele= int(input(\"enter the ele\"))\n",
    "    l.append(ele)\n",
    "print(l)\n",
    "for i in l:\n",
    "    p.append(i**2)\n",
    "print(p)"
   ]
  },
  {
   "cell_type": "code",
   "execution_count": null,
   "id": "20457b8a-c8fd-4337-8086-9a95f76eeffe",
   "metadata": {},
   "outputs": [],
   "source": []
  }
 ],
 "metadata": {
  "kernelspec": {
   "display_name": "Python 3 (ipykernel)",
   "language": "python",
   "name": "python3"
  },
  "language_info": {
   "codemirror_mode": {
    "name": "ipython",
    "version": 3
   },
   "file_extension": ".py",
   "mimetype": "text/x-python",
   "name": "python",
   "nbconvert_exporter": "python",
   "pygments_lexer": "ipython3",
   "version": "3.10.8"
  }
 },
 "nbformat": 4,
 "nbformat_minor": 5
}
