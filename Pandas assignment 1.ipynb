{
 "cells": [
  {
   "cell_type": "markdown",
   "id": "713d0b29-ffe2-438a-9333-f09816a29b9f",
   "metadata": {},
   "source": [
    "# Q1. Create a Pandas Series that contains the following data: 4, 8, 15, 16, 23, and 42. Then, print the series."
   ]
  },
  {
   "cell_type": "code",
   "execution_count": 1,
   "id": "7eee6acc-014c-4a99-8d21-db26d3009152",
   "metadata": {},
   "outputs": [],
   "source": [
    "import pandas as pd"
   ]
  },
  {
   "cell_type": "code",
   "execution_count": 25,
   "id": "2a38f1a0-d5c8-4a55-893e-a8858b0688f0",
   "metadata": {},
   "outputs": [],
   "source": [
    "data = (4,8,15,16,23,42)"
   ]
  },
  {
   "cell_type": "code",
   "execution_count": 26,
   "id": "464dca9d-c717-4319-a488-f558352a5b41",
   "metadata": {},
   "outputs": [
    {
     "data": {
      "text/plain": [
       "0     4\n",
       "1     8\n",
       "2    15\n",
       "3    16\n",
       "4    23\n",
       "5    42\n",
       "dtype: int64"
      ]
     },
     "execution_count": 26,
     "metadata": {},
     "output_type": "execute_result"
    }
   ],
   "source": [
    "pd.Series(data)"
   ]
  },
  {
   "cell_type": "code",
   "execution_count": 28,
   "id": "5e3dd7e8-0bb2-4e99-9152-c8929d81bc3b",
   "metadata": {},
   "outputs": [
    {
     "data": {
      "text/plain": [
       "pandas.core.series.Series"
      ]
     },
     "execution_count": 28,
     "metadata": {},
     "output_type": "execute_result"
    }
   ],
   "source": [
    "type(pd.Series(data))"
   ]
  },
  {
   "cell_type": "markdown",
   "id": "41de31c2-d388-42e6-9744-37954147ca03",
   "metadata": {},
   "source": [
    "# Q2. Create a variable of list type containing 10 elements in it, and apply pandas.Series function on the variable print it."
   ]
  },
  {
   "cell_type": "code",
   "execution_count": 19,
   "id": "4a3e37ae-0e27-4799-b54a-7ba5033da5a8",
   "metadata": {},
   "outputs": [],
   "source": [
    "l1 = [1,2,3,4,5,6,12,32,45,20]"
   ]
  },
  {
   "cell_type": "code",
   "execution_count": 20,
   "id": "4bc013b1-69d9-491e-be3d-05c8d4df5b92",
   "metadata": {},
   "outputs": [
    {
     "data": {
      "text/plain": [
       "0     1\n",
       "1     2\n",
       "2     3\n",
       "3     4\n",
       "4     5\n",
       "5     6\n",
       "6    12\n",
       "7    32\n",
       "8    45\n",
       "9    20\n",
       "dtype: int64"
      ]
     },
     "execution_count": 20,
     "metadata": {},
     "output_type": "execute_result"
    }
   ],
   "source": [
    "pd.Series(l1)"
   ]
  },
  {
   "cell_type": "code",
   "execution_count": 27,
   "id": "f52fc5ee-f5cb-44b9-bb34-485390fc2b12",
   "metadata": {},
   "outputs": [
    {
     "data": {
      "text/plain": [
       "pandas.core.series.Series"
      ]
     },
     "execution_count": 27,
     "metadata": {},
     "output_type": "execute_result"
    }
   ],
   "source": [
    "type(pd.Series(l1))"
   ]
  },
  {
   "cell_type": "markdown",
   "id": "4f2103b8-6d26-472c-aa8a-2b6a4f69aa5c",
   "metadata": {},
   "source": [
    "# Q3. Create a Pandas DataFrame that contains the following data: Then, print the DataFrame."
   ]
  },
  {
   "cell_type": "code",
   "execution_count": 29,
   "id": "c4deeb0e-5b52-45fa-a70e-325ee8f1ce2e",
   "metadata": {},
   "outputs": [],
   "source": [
    "data = {'Name':['Alice','Bob','Claire'],\n",
    "        'Age':[25,30,27],\n",
    "        'Gender':['Female','Male','Female']\n",
    "}"
   ]
  },
  {
   "cell_type": "code",
   "execution_count": 30,
   "id": "a0d2e438-273c-4d4a-ab32-60d327de2519",
   "metadata": {},
   "outputs": [],
   "source": [
    "df= pd.DataFrame(data)"
   ]
  },
  {
   "cell_type": "code",
   "execution_count": 31,
   "id": "6b340268-c9fe-4725-bf25-a97bceb6ef0b",
   "metadata": {},
   "outputs": [
    {
     "data": {
      "text/html": [
       "<div>\n",
       "<style scoped>\n",
       "    .dataframe tbody tr th:only-of-type {\n",
       "        vertical-align: middle;\n",
       "    }\n",
       "\n",
       "    .dataframe tbody tr th {\n",
       "        vertical-align: top;\n",
       "    }\n",
       "\n",
       "    .dataframe thead th {\n",
       "        text-align: right;\n",
       "    }\n",
       "</style>\n",
       "<table border=\"1\" class=\"dataframe\">\n",
       "  <thead>\n",
       "    <tr style=\"text-align: right;\">\n",
       "      <th></th>\n",
       "      <th>Name</th>\n",
       "      <th>Age</th>\n",
       "      <th>Gender</th>\n",
       "    </tr>\n",
       "  </thead>\n",
       "  <tbody>\n",
       "    <tr>\n",
       "      <th>0</th>\n",
       "      <td>Alice</td>\n",
       "      <td>25</td>\n",
       "      <td>Female</td>\n",
       "    </tr>\n",
       "    <tr>\n",
       "      <th>1</th>\n",
       "      <td>Bob</td>\n",
       "      <td>30</td>\n",
       "      <td>Male</td>\n",
       "    </tr>\n",
       "    <tr>\n",
       "      <th>2</th>\n",
       "      <td>Claire</td>\n",
       "      <td>27</td>\n",
       "      <td>Female</td>\n",
       "    </tr>\n",
       "  </tbody>\n",
       "</table>\n",
       "</div>"
      ],
      "text/plain": [
       "     Name  Age  Gender\n",
       "0   Alice   25  Female\n",
       "1     Bob   30    Male\n",
       "2  Claire   27  Female"
      ]
     },
     "execution_count": 31,
     "metadata": {},
     "output_type": "execute_result"
    }
   ],
   "source": [
    "df"
   ]
  },
  {
   "cell_type": "markdown",
   "id": "693da024-6431-4eb2-a2c8-65b7693a30a6",
   "metadata": {},
   "source": [
    "# Q4. What is ‘DataFrame’ in pandas and how is it different from pandas.series? Explain with an example."
   ]
  },
  {
   "cell_type": "markdown",
   "id": "a4944c44-b00a-46de-94f5-938e31337200",
   "metadata": {},
   "source": [
    "- DataFrame is a 2-dimensional labeled data structure with columns of potentially different types. You can think of it like a spreadsheet or SQL table, or a dict of Series objects. It is generally the most commonly used pandas object."
   ]
  },
  {
   "cell_type": "markdown",
   "id": "010d05c9-3235-4517-a23e-cee312a9e20e",
   "metadata": {},
   "source": [
    "# Q5. What are some common functions you can use to manipulate data in a Pandas DataFrame? Can you give an example of when you might use one of these functions?"
   ]
  },
  {
   "cell_type": "markdown",
   "id": "67755306-c98f-42e7-abbc-fc0ad14694bf",
   "metadata": {},
   "source": [
    "Most common functions for data manipulation in pandas DataFrame are - \n",
    "\n",
    "- Head and tail function. These functions are used when we have to see the first 5 rows or the last 5 rows of our data frame.\n",
    "- Describe. it is used to see the statistical summary of our data.\n",
    "- isna .It is used to check if there is any null value in our dataframe.\n"
   ]
  },
  {
   "cell_type": "markdown",
   "id": "73672d05-6ca2-4bae-b446-1e234562a3e9",
   "metadata": {},
   "source": [
    "# Q6. Which of the following is mutable in nature Series, DataFrame, Panel?"
   ]
  },
  {
   "cell_type": "markdown",
   "id": "f7ffebe4-1a44-4f57-8ee3-06f1df83770c",
   "metadata": {},
   "source": [
    "- DataFrame is mutable in nature"
   ]
  },
  {
   "cell_type": "markdown",
   "id": "a944982f-b053-4e5f-8a24-2ff794572215",
   "metadata": {},
   "source": [
    "# Q7. Create a DataFrame using multiple Series. Explain with an example."
   ]
  },
  {
   "cell_type": "code",
   "execution_count": 32,
   "id": "632199d3-1c0f-43e0-92a1-ebad03fb8988",
   "metadata": {},
   "outputs": [],
   "source": [
    "student_names = ['Anurag','Ravi','Jassi']\n",
    "marks = [20,18,16]"
   ]
  },
  {
   "cell_type": "code",
   "execution_count": 33,
   "id": "1d2f3178-0a20-476d-8ab7-fcb16f8913f9",
   "metadata": {},
   "outputs": [],
   "source": [
    "student_names_ser=pd.Series(student_names)\n",
    "marks_ser = pd.Series(marks)"
   ]
  },
  {
   "cell_type": "code",
   "execution_count": 36,
   "id": "3bfca446-8939-4177-92b1-4f5848258b46",
   "metadata": {},
   "outputs": [],
   "source": [
    "ser = {'Student_Names':student_names_ser,\n",
    "      'Marks':marks_ser\n",
    "}"
   ]
  },
  {
   "cell_type": "code",
   "execution_count": 35,
   "id": "742680b5-cc5c-447a-9813-c3c0ec1f1ec1",
   "metadata": {},
   "outputs": [
    {
     "data": {
      "text/plain": [
       "{'Student_Names': 0    Anurag\n",
       " 1      Ravi\n",
       " 2     Jassi\n",
       " dtype: object,\n",
       " 'Marks': 0    20\n",
       " 1    18\n",
       " 2    16\n",
       " dtype: int64}"
      ]
     },
     "execution_count": 35,
     "metadata": {},
     "output_type": "execute_result"
    }
   ],
   "source": [
    "df"
   ]
  },
  {
   "cell_type": "code",
   "execution_count": null,
   "id": "74178717-72f9-4277-a2e4-12902362bf42",
   "metadata": {},
   "outputs": [],
   "source": []
  }
 ],
 "metadata": {
  "kernelspec": {
   "display_name": "Python 3 (ipykernel)",
   "language": "python",
   "name": "python3"
  },
  "language_info": {
   "codemirror_mode": {
    "name": "ipython",
    "version": 3
   },
   "file_extension": ".py",
   "mimetype": "text/x-python",
   "name": "python",
   "nbconvert_exporter": "python",
   "pygments_lexer": "ipython3",
   "version": "3.10.8"
  }
 },
 "nbformat": 4,
 "nbformat_minor": 5
}
