{
 "cells": [
  {
   "cell_type": "markdown",
   "id": "22f33546-e2e2-4ab5-b89e-336d3c572dd7",
   "metadata": {},
   "source": [
    "# Q1. What is a database? Differentiate between SQL and NoSQL databases."
   ]
  },
  {
   "cell_type": "markdown",
   "id": "34dbbae1-9b0c-4080-b9b9-81fa1fa5b814",
   "metadata": {},
   "source": [
    "- Databases are used for storing, maintaining and accessing any sort of data. They collect information on people, places or things. That information is gathered in one place so that it can be observed and analyzed. Databases can be thought of as an organized collection of information."
   ]
  },
  {
   "cell_type": "markdown",
   "id": "a64b6a7a-97bf-4aa4-8d2d-15fcce266f16",
   "metadata": {},
   "source": [
    " - SQL databases are primarily called as Relational Databases (RDBMS), whereas NoSQL database are primarily called as non-relational or distributed database"
   ]
  },
  {
   "cell_type": "markdown",
   "id": "c6934b1a-94d6-4eca-b42f-0f132f8f864a",
   "metadata": {},
   "source": [
    "- SQL databases defines and manipulates data based structured query language (SQL) , A NoSQL database has dynamic schema for unstructured data."
   ]
  },
  {
   "cell_type": "markdown",
   "id": "19e753bc-84c5-4e82-a7d7-2c0c80759862",
   "metadata": {},
   "source": [
    " - SQL requires you to use predefined schemas to determine the structure of your data before you work with it, NoSQL does not required any predefined schemas."
   ]
  },
  {
   "cell_type": "markdown",
   "id": "e6bb1c24-1811-4342-b71a-5ef466084470",
   "metadata": {},
   "source": [
    " - SQL databases are not suited for hierarchical data storage , NOSQL databases are best suited for hierarchical data storage."
   ]
  },
  {
   "cell_type": "markdown",
   "id": "e334ba67-220f-4d0d-bf17-28029eec7992",
   "metadata": {},
   "source": [
    "# Q2. What is DDL? Explain why CREATE, DROP, ALTER, and TRUNCATE are used with an example."
   ]
  },
  {
   "cell_type": "markdown",
   "id": "cbd35bbe-f1c1-4dc3-9f75-1c31d7037b9e",
   "metadata": {},
   "source": [
    " - DDL stands for Data definition language. Data Definition Language actually consists of the SQL commands that can be used to define the database schema.DDL is a set of SQL commands used to create, modify, and delete database structures but not data."
   ]
  },
  {
   "cell_type": "markdown",
   "id": "ec9f60a3-c81e-42f4-b92d-eb2ecd7fa19a",
   "metadata": {},
   "source": [
    " - CREATE - This command is used to create the database or its objects (like table, index, function, views, store procedure, and triggers). Eg - CREATE DATABASE test_db"
   ]
  },
  {
   "cell_type": "markdown",
   "id": "8965d370-317e-4d34-9559-890c1f4aea52",
   "metadata": {},
   "source": [
    "- DROP - This command is used to delete objects from the database. Eg - DROP DATABASE test_db"
   ]
  },
  {
   "cell_type": "markdown",
   "id": "f83759ec-132e-445a-bbcf-fedfa2607cc5",
   "metadata": {},
   "source": [
    "- ALTER - This is used to alter the structure of the database. Eg- ALTER TABLE table_name"
   ]
  },
  {
   "cell_type": "markdown",
   "id": "74e4c1d5-9e8f-4eaa-81d2-bf3cbb03e4ca",
   "metadata": {},
   "source": [
    "- TRUNCATE - This is used to remove all records from a table, including all spaces allocated for the records are removed. Eg - TRUNCATE TABLE Salary"
   ]
  },
  {
   "cell_type": "markdown",
   "id": "de66304a-b11d-4fcf-a5b6-a21e7e9707d3",
   "metadata": {},
   "source": [
    "# Q3. What is DML? Explain INSERT, UPDATE, and DELETE with an example."
   ]
  },
  {
   "cell_type": "markdown",
   "id": "f0a782f1-dd2d-4779-952b-68e45c597603",
   "metadata": {},
   "source": [
    "- DML stands for Data Manipulation Language. The SQL commands that deals with the manipulation of data present in the database belong to DML or Data Manipulation Language and this includes most of the SQL statements."
   ]
  },
  {
   "cell_type": "markdown",
   "id": "389f9134-cde7-4d68-ac78-5ff2de54d1eb",
   "metadata": {},
   "source": [
    "- INSERT - It is used to insert data into a table. Eg.  INSERT INTO table_name (column1, column2, column3, ...)"
   ]
  },
  {
   "cell_type": "markdown",
   "id": "c81e3ede-1c8a-4bde-bd8d-0b42303d9a29",
   "metadata": {},
   "source": [
    "- UPDATE - It is used to update existing data within a table. Eg.  UPDATE table_name SET column_name = value [, column_name = value ...]"
   ]
  },
  {
   "cell_type": "markdown",
   "id": "0de276e3-8f0c-447b-9076-5c35ba9f3437",
   "metadata": {},
   "source": [
    "- DELETE - It is used to delete records from a database table. Eg. DELETE FROM table_name WHERE condition"
   ]
  },
  {
   "cell_type": "markdown",
   "id": "390c0b96-e7ae-458d-9ddb-02013958f111",
   "metadata": {},
   "source": [
    "# Q4. What is DQL? Explain SELECT with an example."
   ]
  },
  {
   "cell_type": "markdown",
   "id": "87a2ed9d-cd41-4a55-b123-fe4fd748daa6",
   "metadata": {},
   "source": [
    "- DQL stands for Data Query Language. DQL statements are used for performing queries on the data within schema objects. The purpose of the DQL Command is to get some schema relation based on the query passed to it."
   ]
  },
  {
   "cell_type": "markdown",
   "id": "02ea0bde-4991-4b9a-b2b5-7d8f0eed4821",
   "metadata": {},
   "source": [
    "- SELECT - It is used to retrieve data from the database. Eg. SELECT * from table_name;"
   ]
  },
  {
   "cell_type": "markdown",
   "id": "fa401cfe-8416-4aee-9b7b-40006420ec72",
   "metadata": {},
   "source": [
    "# Q5. Explain Primary Key and Foreign Key"
   ]
  },
  {
   "cell_type": "markdown",
   "id": "3a1c9828-6ee4-47e6-9c44-abb01a9e570a",
   "metadata": {},
   "source": [
    " - A primary key is used to ensure that data in the specific column is unique. A column cannot have NULL values. It is either an existing table column or a column that is specifically generated by the database according to a defined sequence. "
   ]
  },
  {
   "cell_type": "markdown",
   "id": "d5360562-705a-47d1-9ad0-8d2f95897e2d",
   "metadata": {},
   "source": [
    "- A foreign key is a column or group of columns in a relational database table that provides a link between data in two tables. It is a column (or columns) that references a column (most often the primary key) of another table. "
   ]
  },
  {
   "cell_type": "markdown",
   "id": "c969d24b-5745-43c6-8368-306dec5a242b",
   "metadata": {},
   "source": [
    "# Q6. Write a python code to connect MySQL to python. Explain the cursor() and execute() method."
   ]
  },
  {
   "cell_type": "code",
   "execution_count": null,
   "id": "a49b46bb-9770-4b63-91ba-7cfe1d304c15",
   "metadata": {},
   "outputs": [],
   "source": [
    "import mysql connector\n",
    "\n",
    "mydb = mysql.connector.connect(\n",
    " host = \"localhost\"\n",
    " username = \"abc\"\n",
    " password = \"password\"\n",
    "\n",
    ")\n",
    "\n",
    "mycursor = mydb.cursor()\n",
    "\n",
    "mycursor.execute(\"select * from test2.test_table\")\n",
    "mydb.close()\n",
    "\n"
   ]
  },
  {
   "cell_type": "markdown",
   "id": "94906f07-b9fd-4219-b521-2638f960d350",
   "metadata": {},
   "source": [
    "- cursor is just like a pointer which go through the database and fetch the results\n",
    "- execute will helps in executing the query "
   ]
  },
  {
   "cell_type": "markdown",
   "id": "1b160c74-06a0-4e2f-88f2-d8551ebdfdfb",
   "metadata": {},
   "source": [
    "# Q7. Give the order of execution of SQL clauses in an SQL query."
   ]
  },
  {
   "cell_type": "markdown",
   "id": "f15cf881-9313-49ad-915b-25d861018ce3",
   "metadata": {},
   "source": [
    "- The order in which the clauses in queries are executed is as follows:\n",
    "\n",
    "1. FROM/JOIN: The FROM and/or JOIN clauses are executed first to determine the data of interest.\n",
    "\n",
    "2. WHERE: The WHERE clause is executed to filter out records that do not meet the constraints.\n",
    "\n",
    "3. GROUP BY: The GROUP BY clause is executed to group the data based on the values in one or more columns.\n",
    "\n",
    "4. HAVING: The HAVING clause is executed to remove the created grouped records that don’t meet the constraints.\n",
    "\n",
    "5. SELECT: The SELECT clause is executed to derive all desired columns and expressions.\n",
    "\n",
    "6. ORDER BY: The ORDER BY clause is executed to sort the derived values in ascending or descending order.\n",
    "\n",
    "7. LIMIT/OFFSET: Finally, the LIMIT and/or OFFSET clauses are executed to keep or skip a specified number of rows."
   ]
  },
  {
   "cell_type": "code",
   "execution_count": null,
   "id": "5c0331cf-4133-4b13-8d9b-471a5cd59327",
   "metadata": {},
   "outputs": [],
   "source": []
  }
 ],
 "metadata": {
  "kernelspec": {
   "display_name": "Python 3 (ipykernel)",
   "language": "python",
   "name": "python3"
  },
  "language_info": {
   "codemirror_mode": {
    "name": "ipython",
    "version": 3
   },
   "file_extension": ".py",
   "mimetype": "text/x-python",
   "name": "python",
   "nbconvert_exporter": "python",
   "pygments_lexer": "ipython3",
   "version": "3.10.8"
  }
 },
 "nbformat": 4,
 "nbformat_minor": 5
}
